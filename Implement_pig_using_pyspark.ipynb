{
  "nbformat": 4,
  "nbformat_minor": 0,
  "metadata": {
    "colab": {
      "provenance": []
    },
    "kernelspec": {
      "name": "python3",
      "display_name": "Python 3"
    },
    "language_info": {
      "name": "python"
    }
  },
  "cells": [
    {
      "cell_type": "code",
      "execution_count": 2,
      "metadata": {
        "colab": {
          "base_uri": "https://localhost:8080/"
        },
        "id": "LsNrX5B-GgQY",
        "outputId": "edbeb971-b357-48a7-dd92-96e94d4456c7"
      },
      "outputs": [
        {
          "output_type": "stream",
          "name": "stdout",
          "text": [
            "Collecting pyspark\n",
            "  Downloading pyspark-3.5.2.tar.gz (317.3 MB)\n",
            "\u001b[2K     \u001b[90m━━━━━━━━━━━━━━━━━━━━━━━━━━━━━━━━━━━━━━━━\u001b[0m \u001b[32m317.3/317.3 MB\u001b[0m \u001b[31m4.6 MB/s\u001b[0m eta \u001b[36m0:00:00\u001b[0m\n",
            "\u001b[?25h  Preparing metadata (setup.py) ... \u001b[?25l\u001b[?25hdone\n",
            "Requirement already satisfied: py4j==0.10.9.7 in /usr/local/lib/python3.10/dist-packages (from pyspark) (0.10.9.7)\n",
            "Building wheels for collected packages: pyspark\n",
            "  Building wheel for pyspark (setup.py) ... \u001b[?25l\u001b[?25hdone\n",
            "  Created wheel for pyspark: filename=pyspark-3.5.2-py2.py3-none-any.whl size=317812365 sha256=6e2218b09e226d9c81656323a1a7c86890b4d05b4951d275d84a1d0e9d56f1b6\n",
            "  Stored in directory: /root/.cache/pip/wheels/34/34/bd/03944534c44b677cd5859f248090daa9fb27b3c8f8e5f49574\n",
            "Successfully built pyspark\n",
            "Installing collected packages: pyspark\n",
            "Successfully installed pyspark-3.5.2\n"
          ]
        }
      ],
      "source": [
        "pip install pyspark"
      ]
    },
    {
      "cell_type": "code",
      "source": [
        "from pyspark.sql import SparkSession\n",
        "from pyspark.sql.functions import col, avg"
      ],
      "metadata": {
        "id": "0-DAdcxrG0Hl"
      },
      "execution_count": 3,
      "outputs": []
    },
    {
      "cell_type": "code",
      "source": [
        "# Initialize a Spark session\n",
        "spark = SparkSession.builder.appName(\"Real Estate Analysis\").getOrCreate()"
      ],
      "metadata": {
        "id": "csjzD0wSG2wI"
      },
      "execution_count": 4,
      "outputs": []
    },
    {
      "cell_type": "code",
      "source": [
        "# Load the dataset\n",
        "data = spark.read.option(\"header\", \"true\").csv(\"/content/Real estate.csv\", inferSchema=True)\n"
      ],
      "metadata": {
        "id": "h-PL5if6HF-f"
      },
      "execution_count": 5,
      "outputs": []
    },
    {
      "cell_type": "code",
      "source": [
        "# Show the schema\n",
        "data.printSchema()"
      ],
      "metadata": {
        "colab": {
          "base_uri": "https://localhost:8080/"
        },
        "id": "smwkYK4dHMWs",
        "outputId": "7048d7e0-a029-4b71-dd2f-82900aeea992"
      },
      "execution_count": 6,
      "outputs": [
        {
          "output_type": "stream",
          "name": "stdout",
          "text": [
            "root\n",
            " |-- No: integer (nullable = true)\n",
            " |-- X1 transaction date: double (nullable = true)\n",
            " |-- X2 house age: double (nullable = true)\n",
            " |-- X3 distance to the nearest MRT station: double (nullable = true)\n",
            " |-- X4 number of convenience stores: integer (nullable = true)\n",
            " |-- X5 latitude: double (nullable = true)\n",
            " |-- X6 longitude: double (nullable = true)\n",
            " |-- Y house price of unit area: double (nullable = true)\n",
            "\n"
          ]
        }
      ]
    },
    {
      "cell_type": "code",
      "source": [
        "data.show()"
      ],
      "metadata": {
        "colab": {
          "base_uri": "https://localhost:8080/"
        },
        "id": "uBRoox7zHQdG",
        "outputId": "22612fba-cf46-42cd-dec2-c1a24b4b9d16"
      },
      "execution_count": 7,
      "outputs": [
        {
          "output_type": "stream",
          "name": "stdout",
          "text": [
            "+---+-------------------+------------+--------------------------------------+-------------------------------+-----------+------------+--------------------------+\n",
            "| No|X1 transaction date|X2 house age|X3 distance to the nearest MRT station|X4 number of convenience stores|X5 latitude|X6 longitude|Y house price of unit area|\n",
            "+---+-------------------+------------+--------------------------------------+-------------------------------+-----------+------------+--------------------------+\n",
            "|  1|           2012.917|        32.0|                              84.87882|                             10|   24.98298|   121.54024|                      37.9|\n",
            "|  2|           2012.917|        19.5|                              306.5947|                              9|   24.98034|   121.53951|                      42.2|\n",
            "|  3|           2013.583|        13.3|                              561.9845|                              5|   24.98746|   121.54391|                      47.3|\n",
            "|  4|             2013.5|        13.3|                              561.9845|                              5|   24.98746|   121.54391|                      54.8|\n",
            "|  5|           2012.833|         5.0|                              390.5684|                              5|   24.97937|   121.54245|                      43.1|\n",
            "|  6|           2012.667|         7.1|                               2175.03|                              3|   24.96305|   121.51254|                      32.1|\n",
            "|  7|           2012.667|        34.5|                              623.4731|                              7|   24.97933|   121.53642|                      40.3|\n",
            "|  8|           2013.417|        20.3|                              287.6025|                              6|   24.98042|   121.54228|                      46.7|\n",
            "|  9|             2013.5|        31.7|                              5512.038|                              1|   24.95095|   121.48458|                      18.8|\n",
            "| 10|           2013.417|        17.9|                               1783.18|                              3|   24.96731|   121.51486|                      22.1|\n",
            "| 11|           2013.083|        34.8|                              405.2134|                              1|   24.97349|   121.53372|                      41.4|\n",
            "| 12|           2013.333|         6.3|                              90.45606|                              9|   24.97433|    121.5431|                      58.1|\n",
            "| 13|           2012.917|        13.0|                              492.2313|                              5|   24.96515|   121.53737|                      39.3|\n",
            "| 14|           2012.667|        20.4|                              2469.645|                              4|   24.96108|   121.51046|                      23.8|\n",
            "| 15|             2013.5|        13.2|                              1164.838|                              4|   24.99156|   121.53406|                      34.3|\n",
            "| 16|           2013.583|        35.7|                              579.2083|                              2|    24.9824|   121.54619|                      50.5|\n",
            "| 17|            2013.25|         0.0|                              292.9978|                              6|   24.97744|   121.54458|                      70.1|\n",
            "| 18|            2012.75|        17.7|                              350.8515|                              1|   24.97544|   121.53119|                      37.4|\n",
            "| 19|           2013.417|        16.9|                              368.1363|                              8|    24.9675|   121.54451|                      42.3|\n",
            "| 20|           2012.667|         1.5|                              23.38284|                              7|   24.96772|   121.54102|                      47.7|\n",
            "+---+-------------------+------------+--------------------------------------+-------------------------------+-----------+------------+--------------------------+\n",
            "only showing top 20 rows\n",
            "\n"
          ]
        }
      ]
    },
    {
      "cell_type": "code",
      "source": [
        "# Filter records where house age is greater than 20\n",
        "filtered_data = data.filter(col(\"X2 house age\") > 20)\n"
      ],
      "metadata": {
        "id": "WSazQTfEHO7Z"
      },
      "execution_count": 8,
      "outputs": []
    },
    {
      "cell_type": "code",
      "source": [
        "filtered_data.show()"
      ],
      "metadata": {
        "colab": {
          "base_uri": "https://localhost:8080/"
        },
        "id": "Qr48cMtXHThx",
        "outputId": "ad708b08-aaf4-46ec-fbc7-d8f14f9b8f0d"
      },
      "execution_count": 9,
      "outputs": [
        {
          "output_type": "stream",
          "name": "stdout",
          "text": [
            "+---+-------------------+------------+--------------------------------------+-------------------------------+-----------+------------+--------------------------+\n",
            "| No|X1 transaction date|X2 house age|X3 distance to the nearest MRT station|X4 number of convenience stores|X5 latitude|X6 longitude|Y house price of unit area|\n",
            "+---+-------------------+------------+--------------------------------------+-------------------------------+-----------+------------+--------------------------+\n",
            "|  1|           2012.917|        32.0|                              84.87882|                             10|   24.98298|   121.54024|                      37.9|\n",
            "|  7|           2012.667|        34.5|                              623.4731|                              7|   24.97933|   121.53642|                      40.3|\n",
            "|  8|           2013.417|        20.3|                              287.6025|                              6|   24.98042|   121.54228|                      46.7|\n",
            "|  9|             2013.5|        31.7|                              5512.038|                              1|   24.95095|   121.48458|                      18.8|\n",
            "| 11|           2013.083|        34.8|                              405.2134|                              1|   24.97349|   121.53372|                      41.4|\n",
            "| 14|           2012.667|        20.4|                              2469.645|                              4|   24.96108|   121.51046|                      23.8|\n",
            "| 16|           2013.583|        35.7|                              579.2083|                              2|    24.9824|   121.54619|                      50.5|\n",
            "| 25|             2013.0|        39.6|                              480.6977|                              4|   24.97353|   121.53885|                      38.8|\n",
            "| 26|           2013.083|        29.3|                              1487.868|                              2|   24.97542|   121.51726|                      27.0|\n",
            "| 31|             2013.5|        25.9|                               4519.69|                              0|   24.94826|   121.49587|                      22.1|\n",
            "| 32|            2012.75|        29.6|                              769.4034|                              7|   24.98281|   121.53408|                      25.0|\n",
            "| 33|            2012.75|        37.9|                              488.5727|                              1|   24.97349|   121.53451|                      34.2|\n",
            "| 43|           2013.417|        36.1|                              519.4617|                              5|   24.96305|   121.53758|                      34.7|\n",
            "| 44|            2012.75|        34.4|                              512.7871|                              6|   24.98748|   121.54301|                      34.1|\n",
            "| 46|           2013.083|        36.6|                              488.8193|                              8|   24.97015|   121.54494|                      38.3|\n",
            "| 47|           2013.417|        21.7|                              463.9623|                              9|    24.9703|   121.54458|                      42.0|\n",
            "| 48|           2013.583|        35.9|                              640.7391|                              3|   24.97563|   121.53715|                      61.5|\n",
            "| 49|           2013.417|        24.2|                              4605.749|                              0|   24.94684|   121.49578|                      13.4|\n",
            "| 50|           2012.667|        29.4|                              4510.359|                              1|   24.94925|   121.49542|                      13.2|\n",
            "| 51|           2013.417|        21.7|                              512.5487|                              4|     24.974|   121.53842|                      44.2|\n",
            "+---+-------------------+------------+--------------------------------------+-------------------------------+-----------+------------+--------------------------+\n",
            "only showing top 20 rows\n",
            "\n"
          ]
        }
      ]
    },
    {
      "cell_type": "code",
      "source": [
        "# Group by number of convenience stores and calculate the average house price\n",
        "grouped_data = filtered_data.groupBy(\"X4 number of convenience stores\").agg(avg(\"Y house price of unit area\").alias(\"avg_house_price\"))\n"
      ],
      "metadata": {
        "id": "la54ru7eHUpJ"
      },
      "execution_count": 10,
      "outputs": []
    },
    {
      "cell_type": "code",
      "source": [
        "# Show the result\n",
        "grouped_data.show()\n"
      ],
      "metadata": {
        "colab": {
          "base_uri": "https://localhost:8080/"
        },
        "id": "gBs_5TKZHbB0",
        "outputId": "5b379286-8344-4583-d785-a6c055855a07"
      },
      "execution_count": 11,
      "outputs": [
        {
          "output_type": "stream",
          "name": "stdout",
          "text": [
            "+-------------------------------+------------------+\n",
            "|X4 number of convenience stores|   avg_house_price|\n",
            "+-------------------------------+------------------+\n",
            "|                              1|24.516666666666666|\n",
            "|                              6| 40.25714285714286|\n",
            "|                              3|           33.1125|\n",
            "|                              5|              34.2|\n",
            "|                              9| 48.41250000000001|\n",
            "|                              4| 37.50909090909091|\n",
            "|                              8|44.605000000000004|\n",
            "|                              7| 38.51666666666667|\n",
            "|                             10| 45.26666666666667|\n",
            "|                              2| 34.82222222222222|\n",
            "|                              0|23.060000000000002|\n",
            "+-------------------------------+------------------+\n",
            "\n"
          ]
        }
      ]
    },
    {
      "cell_type": "code",
      "source": [
        "# Stop the Spark session\n",
        "spark.stop()"
      ],
      "metadata": {
        "id": "WsU9X6exHdbz"
      },
      "execution_count": 12,
      "outputs": []
    },
    {
      "cell_type": "code",
      "source": [],
      "metadata": {
        "id": "R1HFkHXhHeNE"
      },
      "execution_count": null,
      "outputs": []
    }
  ]
}